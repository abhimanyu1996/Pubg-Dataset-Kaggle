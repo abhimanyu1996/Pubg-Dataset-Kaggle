{
  "nbformat": 4,
  "nbformat_minor": 0,
  "metadata": {
    "colab": {
      "name": "Pubg",
      "version": "0.3.2",
      "provenance": [],
      "collapsed_sections": [],
      "toc_visible": true
    },
    "kernelspec": {
      "name": "python3",
      "display_name": "Python 3"
    }
  },
  "cells": [
    {
      "cell_type": "markdown",
      "metadata": {
        "id": "IFquFtpItZHM",
        "colab_type": "text"
      },
      "source": [
        "Install Kaggle to VM to download the dataset"
      ]
    },
    {
      "cell_type": "code",
      "metadata": {
        "id": "qanmDkwTPvf8",
        "colab_type": "code",
        "colab": {}
      },
      "source": [
        "!pip install -q kaggle"
      ],
      "execution_count": 0,
      "outputs": []
    },
    {
      "cell_type": "markdown",
      "metadata": {
        "id": "TYtoZfXmtfU4",
        "colab_type": "text"
      },
      "source": [
        "Download the dataset"
      ]
    },
    {
      "cell_type": "code",
      "metadata": {
        "id": "XxxTHPBiX4gz",
        "colab_type": "code",
        "outputId": "823b5b60-6b3e-4019-9ea3-031c44bdcdfb",
        "colab": {
          "base_uri": "https://localhost:8080/",
          "height": 173
        }
      },
      "source": [
        "!mkdir -p ~/.kaggle\n",
        "!cp kaggle.json ~/.kaggle/\n",
        "!chmod 600 ~/.kaggle/kaggle.json\n",
        "!kaggle competitions download -c pubg-finish-placement-prediction"
      ],
      "execution_count": 0,
      "outputs": [
        {
          "output_type": "stream",
          "text": [
            "Downloading sample_submission_V2.csv.zip to /content\n",
            "\r  0% 0.00/16.9M [00:00<?, ?B/s]\r 36% 6.00M/16.9M [00:00<00:00, 62.2MB/s]\n",
            "100% 16.9M/16.9M [00:00<00:00, 107MB/s] \n",
            "Downloading test_V2.csv.zip to /content\n",
            " 85% 84.0M/98.3M [00:01<00:00, 40.1MB/s]\n",
            "100% 98.3M/98.3M [00:01<00:00, 70.1MB/s]\n",
            "Downloading train_V2.csv.zip to /content\n",
            " 95% 226M/239M [00:01<00:00, 142MB/s]\n",
            "100% 239M/239M [00:01<00:00, 136MB/s]\n"
          ],
          "name": "stdout"
        }
      ]
    },
    {
      "cell_type": "markdown",
      "metadata": {
        "id": "qv6v-XsGtiQ2",
        "colab_type": "text"
      },
      "source": [
        "Extract the Dataset"
      ]
    },
    {
      "cell_type": "code",
      "metadata": {
        "id": "baESQ1eBX6DS",
        "colab_type": "code",
        "colab": {}
      },
      "source": [
        "import zipfile\n",
        "zip_ref = zipfile.ZipFile('sample_submission_V2.csv.zip', 'r')\n",
        "zip_ref1 = zipfile.ZipFile('test_V2.csv.zip', 'r')\n",
        "zip_ref2 = zipfile.ZipFile('train_V2.csv.zip', 'r')\n",
        "zip_ref.extractall()\n",
        "zip_ref1.extractall()\n",
        "zip_ref2.extractall()\n",
        "zip_ref.close()"
      ],
      "execution_count": 0,
      "outputs": []
    },
    {
      "cell_type": "markdown",
      "metadata": {
        "id": "uQiVCdCXtlzi",
        "colab_type": "text"
      },
      "source": [
        "Load Packages and Read, Prepare data"
      ]
    },
    {
      "cell_type": "code",
      "metadata": {
        "id": "I2rXWFCzP84a",
        "colab_type": "code",
        "colab": {}
      },
      "source": [
        "import numpy as np\n",
        "import pandas as pd\n",
        "import sklearn\n",
        "import matplotlib.pyplot as plt\n",
        "import seaborn as sns\n",
        "from sklearn import preprocessing\n",
        "from sklearn.model_selection import train_test_split\n",
        "import tensorflow as tf\n",
        "from keras import backend as K\n",
        "from sklearn.utils import shuffle\n",
        "from sklearn.linear_model import LinearRegression\n",
        "from sklearn.metrics import mean_squared_error, r2_score"
      ],
      "execution_count": 0,
      "outputs": []
    },
    {
      "cell_type": "code",
      "metadata": {
        "id": "4bDNfm-iQUwC",
        "colab_type": "code",
        "colab": {}
      },
      "source": [
        "train = pd.read_csv(\"train_V2.csv\")\n",
        "test = pd.read_csv(\"test_V2.csv\")\n",
        "sample = pd.read_csv(\"sample_submission_V2.csv\")"
      ],
      "execution_count": 0,
      "outputs": []
    },
    {
      "cell_type": "code",
      "metadata": {
        "id": "6ZBJ4QyF_VSw",
        "colab_type": "code",
        "outputId": "6da33df4-4ec5-43fb-9f54-fcbd7fc3108b",
        "colab": {
          "base_uri": "https://localhost:8080/",
          "height": 34
        }
      },
      "source": [
        "train.shape"
      ],
      "execution_count": 0,
      "outputs": [
        {
          "output_type": "execute_result",
          "data": {
            "text/plain": [
              "(4446966, 29)"
            ]
          },
          "metadata": {
            "tags": []
          },
          "execution_count": 40
        }
      ]
    },
    {
      "cell_type": "markdown",
      "metadata": {
        "id": "DN2zV_im2AjY",
        "colab_type": "text"
      },
      "source": [
        "Remove the NaN value"
      ]
    },
    {
      "cell_type": "code",
      "metadata": {
        "id": "1Jj2yjIXSEj6",
        "colab_type": "code",
        "outputId": "44004d02-8e38-40ef-f293-132901447b5f",
        "colab": {
          "base_uri": "https://localhost:8080/",
          "height": 1632
        }
      },
      "source": [
        "train = train[train.winPlacePerc.isna() == False]\n",
        "train.info()\n",
        "print(train.head())\n",
        "train.isna().sum()"
      ],
      "execution_count": 0,
      "outputs": [
        {
          "output_type": "stream",
          "text": [
            "<class 'pandas.core.frame.DataFrame'>\n",
            "Int64Index: 4446965 entries, 0 to 4446965\n",
            "Data columns (total 29 columns):\n",
            "Id                 object\n",
            "groupId            object\n",
            "matchId            object\n",
            "assists            int64\n",
            "boosts             int64\n",
            "damageDealt        float64\n",
            "DBNOs              int64\n",
            "headshotKills      int64\n",
            "heals              int64\n",
            "killPlace          int64\n",
            "killPoints         int64\n",
            "kills              int64\n",
            "killStreaks        int64\n",
            "longestKill        float64\n",
            "matchDuration      int64\n",
            "matchType          object\n",
            "maxPlace           int64\n",
            "numGroups          int64\n",
            "rankPoints         int64\n",
            "revives            int64\n",
            "rideDistance       float64\n",
            "roadKills          int64\n",
            "swimDistance       float64\n",
            "teamKills          int64\n",
            "vehicleDestroys    int64\n",
            "walkDistance       float64\n",
            "weaponsAcquired    int64\n",
            "winPoints          int64\n",
            "winPlacePerc       float64\n",
            "dtypes: float64(6), int64(19), object(4)\n",
            "memory usage: 1017.8+ MB\n",
            "               Id         groupId         matchId  assists  boosts  \\\n",
            "0  7f96b2f878858a  4d4b580de459be  a10357fd1a4a91        0       0   \n",
            "1  eef90569b9d03c  684d5656442f9e  aeb375fc57110c        0       0   \n",
            "2  1eaf90ac73de72  6a4a42c3245a74  110163d8bb94ae        1       0   \n",
            "3  4616d365dd2853  a930a9c79cd721  f1f1f4ef412d7e        0       0   \n",
            "4  315c96c26c9aac  de04010b3458dd  6dc8ff871e21e6        0       0   \n",
            "\n",
            "   damageDealt  DBNOs  headshotKills  heals  killPlace  ...  revives  \\\n",
            "0         0.00      0              0      0         60  ...        0   \n",
            "1        91.47      0              0      0         57  ...        0   \n",
            "2        68.00      0              0      0         47  ...        0   \n",
            "3        32.90      0              0      0         75  ...        0   \n",
            "4       100.00      0              0      0         45  ...        0   \n",
            "\n",
            "   rideDistance  roadKills  swimDistance  teamKills vehicleDestroys  \\\n",
            "0        0.0000          0          0.00          0               0   \n",
            "1        0.0045          0         11.04          0               0   \n",
            "2        0.0000          0          0.00          0               0   \n",
            "3        0.0000          0          0.00          0               0   \n",
            "4        0.0000          0          0.00          0               0   \n",
            "\n",
            "   walkDistance  weaponsAcquired  winPoints  winPlacePerc  \n",
            "0        244.80                1       1466        0.4444  \n",
            "1       1434.00                5          0        0.6400  \n",
            "2        161.80                2          0        0.7755  \n",
            "3        202.70                3          0        0.1667  \n",
            "4         49.75                2          0        0.1875  \n",
            "\n",
            "[5 rows x 29 columns]\n"
          ],
          "name": "stdout"
        },
        {
          "output_type": "execute_result",
          "data": {
            "text/plain": [
              "Id                 0\n",
              "groupId            0\n",
              "matchId            0\n",
              "assists            0\n",
              "boosts             0\n",
              "damageDealt        0\n",
              "DBNOs              0\n",
              "headshotKills      0\n",
              "heals              0\n",
              "killPlace          0\n",
              "killPoints         0\n",
              "kills              0\n",
              "killStreaks        0\n",
              "longestKill        0\n",
              "matchDuration      0\n",
              "matchType          0\n",
              "maxPlace           0\n",
              "numGroups          0\n",
              "rankPoints         0\n",
              "revives            0\n",
              "rideDistance       0\n",
              "roadKills          0\n",
              "swimDistance       0\n",
              "teamKills          0\n",
              "vehicleDestroys    0\n",
              "walkDistance       0\n",
              "weaponsAcquired    0\n",
              "winPoints          0\n",
              "winPlacePerc       0\n",
              "dtype: int64"
            ]
          },
          "metadata": {
            "tags": []
          },
          "execution_count": 12
        }
      ]
    },
    {
      "cell_type": "code",
      "metadata": {
        "id": "36hZAUCHupFe",
        "colab_type": "code",
        "outputId": "aef2ec61-2b1a-43c5-c1db-9413cb6ac329",
        "colab": {
          "base_uri": "https://localhost:8080/",
          "height": 350
        }
      },
      "source": [
        "train.describe()"
      ],
      "execution_count": 0,
      "outputs": [
        {
          "output_type": "execute_result",
          "data": {
            "text/html": [
              "<div>\n",
              "<style scoped>\n",
              "    .dataframe tbody tr th:only-of-type {\n",
              "        vertical-align: middle;\n",
              "    }\n",
              "\n",
              "    .dataframe tbody tr th {\n",
              "        vertical-align: top;\n",
              "    }\n",
              "\n",
              "    .dataframe thead th {\n",
              "        text-align: right;\n",
              "    }\n",
              "</style>\n",
              "<table border=\"1\" class=\"dataframe\">\n",
              "  <thead>\n",
              "    <tr style=\"text-align: right;\">\n",
              "      <th></th>\n",
              "      <th>assists</th>\n",
              "      <th>boosts</th>\n",
              "      <th>damageDealt</th>\n",
              "      <th>DBNOs</th>\n",
              "      <th>headshotKills</th>\n",
              "      <th>heals</th>\n",
              "      <th>killPlace</th>\n",
              "      <th>killPoints</th>\n",
              "      <th>kills</th>\n",
              "      <th>killStreaks</th>\n",
              "      <th>...</th>\n",
              "      <th>revives</th>\n",
              "      <th>rideDistance</th>\n",
              "      <th>roadKills</th>\n",
              "      <th>swimDistance</th>\n",
              "      <th>teamKills</th>\n",
              "      <th>vehicleDestroys</th>\n",
              "      <th>walkDistance</th>\n",
              "      <th>weaponsAcquired</th>\n",
              "      <th>winPoints</th>\n",
              "      <th>winPlacePerc</th>\n",
              "    </tr>\n",
              "  </thead>\n",
              "  <tbody>\n",
              "    <tr>\n",
              "      <th>count</th>\n",
              "      <td>4.446965e+06</td>\n",
              "      <td>4.446965e+06</td>\n",
              "      <td>4.446965e+06</td>\n",
              "      <td>4.446965e+06</td>\n",
              "      <td>4.446965e+06</td>\n",
              "      <td>4.446965e+06</td>\n",
              "      <td>4.446965e+06</td>\n",
              "      <td>4.446965e+06</td>\n",
              "      <td>4.446965e+06</td>\n",
              "      <td>4.446965e+06</td>\n",
              "      <td>...</td>\n",
              "      <td>4.446965e+06</td>\n",
              "      <td>4.446965e+06</td>\n",
              "      <td>4.446965e+06</td>\n",
              "      <td>4.446965e+06</td>\n",
              "      <td>4.446965e+06</td>\n",
              "      <td>4.446965e+06</td>\n",
              "      <td>4.446965e+06</td>\n",
              "      <td>4.446965e+06</td>\n",
              "      <td>4.446965e+06</td>\n",
              "      <td>4.446965e+06</td>\n",
              "    </tr>\n",
              "    <tr>\n",
              "      <th>mean</th>\n",
              "      <td>2.338150e-01</td>\n",
              "      <td>1.106908e+00</td>\n",
              "      <td>1.307172e+02</td>\n",
              "      <td>6.578757e-01</td>\n",
              "      <td>2.268196e-01</td>\n",
              "      <td>1.370148e+00</td>\n",
              "      <td>4.759936e+01</td>\n",
              "      <td>5.050062e+02</td>\n",
              "      <td>9.247835e-01</td>\n",
              "      <td>5.439553e-01</td>\n",
              "      <td>...</td>\n",
              "      <td>1.646590e-01</td>\n",
              "      <td>6.061158e+02</td>\n",
              "      <td>3.496092e-03</td>\n",
              "      <td>4.509323e+00</td>\n",
              "      <td>2.386841e-02</td>\n",
              "      <td>7.918209e-03</td>\n",
              "      <td>1.154218e+03</td>\n",
              "      <td>3.660488e+00</td>\n",
              "      <td>6.064603e+02</td>\n",
              "      <td>4.728216e-01</td>\n",
              "    </tr>\n",
              "    <tr>\n",
              "      <th>std</th>\n",
              "      <td>5.885731e-01</td>\n",
              "      <td>1.715794e+00</td>\n",
              "      <td>1.707806e+02</td>\n",
              "      <td>1.145743e+00</td>\n",
              "      <td>6.021553e-01</td>\n",
              "      <td>2.679982e+00</td>\n",
              "      <td>2.746293e+01</td>\n",
              "      <td>6.275049e+02</td>\n",
              "      <td>1.558445e+00</td>\n",
              "      <td>7.109721e-01</td>\n",
              "      <td>...</td>\n",
              "      <td>4.721671e-01</td>\n",
              "      <td>1.498344e+03</td>\n",
              "      <td>7.337297e-02</td>\n",
              "      <td>3.050220e+01</td>\n",
              "      <td>1.673935e-01</td>\n",
              "      <td>9.261158e-02</td>\n",
              "      <td>1.183497e+03</td>\n",
              "      <td>2.456543e+00</td>\n",
              "      <td>7.397005e+02</td>\n",
              "      <td>3.074050e-01</td>\n",
              "    </tr>\n",
              "    <tr>\n",
              "      <th>min</th>\n",
              "      <td>0.000000e+00</td>\n",
              "      <td>0.000000e+00</td>\n",
              "      <td>0.000000e+00</td>\n",
              "      <td>0.000000e+00</td>\n",
              "      <td>0.000000e+00</td>\n",
              "      <td>0.000000e+00</td>\n",
              "      <td>1.000000e+00</td>\n",
              "      <td>0.000000e+00</td>\n",
              "      <td>0.000000e+00</td>\n",
              "      <td>0.000000e+00</td>\n",
              "      <td>...</td>\n",
              "      <td>0.000000e+00</td>\n",
              "      <td>0.000000e+00</td>\n",
              "      <td>0.000000e+00</td>\n",
              "      <td>0.000000e+00</td>\n",
              "      <td>0.000000e+00</td>\n",
              "      <td>0.000000e+00</td>\n",
              "      <td>0.000000e+00</td>\n",
              "      <td>0.000000e+00</td>\n",
              "      <td>0.000000e+00</td>\n",
              "      <td>0.000000e+00</td>\n",
              "    </tr>\n",
              "    <tr>\n",
              "      <th>25%</th>\n",
              "      <td>0.000000e+00</td>\n",
              "      <td>0.000000e+00</td>\n",
              "      <td>0.000000e+00</td>\n",
              "      <td>0.000000e+00</td>\n",
              "      <td>0.000000e+00</td>\n",
              "      <td>0.000000e+00</td>\n",
              "      <td>2.400000e+01</td>\n",
              "      <td>0.000000e+00</td>\n",
              "      <td>0.000000e+00</td>\n",
              "      <td>0.000000e+00</td>\n",
              "      <td>...</td>\n",
              "      <td>0.000000e+00</td>\n",
              "      <td>0.000000e+00</td>\n",
              "      <td>0.000000e+00</td>\n",
              "      <td>0.000000e+00</td>\n",
              "      <td>0.000000e+00</td>\n",
              "      <td>0.000000e+00</td>\n",
              "      <td>1.551000e+02</td>\n",
              "      <td>2.000000e+00</td>\n",
              "      <td>0.000000e+00</td>\n",
              "      <td>2.000000e-01</td>\n",
              "    </tr>\n",
              "    <tr>\n",
              "      <th>50%</th>\n",
              "      <td>0.000000e+00</td>\n",
              "      <td>0.000000e+00</td>\n",
              "      <td>8.424000e+01</td>\n",
              "      <td>0.000000e+00</td>\n",
              "      <td>0.000000e+00</td>\n",
              "      <td>0.000000e+00</td>\n",
              "      <td>4.700000e+01</td>\n",
              "      <td>0.000000e+00</td>\n",
              "      <td>0.000000e+00</td>\n",
              "      <td>0.000000e+00</td>\n",
              "      <td>...</td>\n",
              "      <td>0.000000e+00</td>\n",
              "      <td>0.000000e+00</td>\n",
              "      <td>0.000000e+00</td>\n",
              "      <td>0.000000e+00</td>\n",
              "      <td>0.000000e+00</td>\n",
              "      <td>0.000000e+00</td>\n",
              "      <td>6.856000e+02</td>\n",
              "      <td>3.000000e+00</td>\n",
              "      <td>0.000000e+00</td>\n",
              "      <td>4.583000e-01</td>\n",
              "    </tr>\n",
              "    <tr>\n",
              "      <th>75%</th>\n",
              "      <td>0.000000e+00</td>\n",
              "      <td>2.000000e+00</td>\n",
              "      <td>1.860000e+02</td>\n",
              "      <td>1.000000e+00</td>\n",
              "      <td>0.000000e+00</td>\n",
              "      <td>2.000000e+00</td>\n",
              "      <td>7.100000e+01</td>\n",
              "      <td>1.172000e+03</td>\n",
              "      <td>1.000000e+00</td>\n",
              "      <td>1.000000e+00</td>\n",
              "      <td>...</td>\n",
              "      <td>0.000000e+00</td>\n",
              "      <td>1.910000e-01</td>\n",
              "      <td>0.000000e+00</td>\n",
              "      <td>0.000000e+00</td>\n",
              "      <td>0.000000e+00</td>\n",
              "      <td>0.000000e+00</td>\n",
              "      <td>1.976000e+03</td>\n",
              "      <td>5.000000e+00</td>\n",
              "      <td>1.495000e+03</td>\n",
              "      <td>7.407000e-01</td>\n",
              "    </tr>\n",
              "    <tr>\n",
              "      <th>max</th>\n",
              "      <td>2.200000e+01</td>\n",
              "      <td>3.300000e+01</td>\n",
              "      <td>6.616000e+03</td>\n",
              "      <td>5.300000e+01</td>\n",
              "      <td>6.400000e+01</td>\n",
              "      <td>8.000000e+01</td>\n",
              "      <td>1.010000e+02</td>\n",
              "      <td>2.170000e+03</td>\n",
              "      <td>7.200000e+01</td>\n",
              "      <td>2.000000e+01</td>\n",
              "      <td>...</td>\n",
              "      <td>3.900000e+01</td>\n",
              "      <td>4.071000e+04</td>\n",
              "      <td>1.800000e+01</td>\n",
              "      <td>3.823000e+03</td>\n",
              "      <td>1.200000e+01</td>\n",
              "      <td>5.000000e+00</td>\n",
              "      <td>2.578000e+04</td>\n",
              "      <td>2.360000e+02</td>\n",
              "      <td>2.013000e+03</td>\n",
              "      <td>1.000000e+00</td>\n",
              "    </tr>\n",
              "  </tbody>\n",
              "</table>\n",
              "<p>8 rows × 25 columns</p>\n",
              "</div>"
            ],
            "text/plain": [
              "            assists        boosts   damageDealt         DBNOs  headshotKills  \\\n",
              "count  4.446965e+06  4.446965e+06  4.446965e+06  4.446965e+06   4.446965e+06   \n",
              "mean   2.338150e-01  1.106908e+00  1.307172e+02  6.578757e-01   2.268196e-01   \n",
              "std    5.885731e-01  1.715794e+00  1.707806e+02  1.145743e+00   6.021553e-01   \n",
              "min    0.000000e+00  0.000000e+00  0.000000e+00  0.000000e+00   0.000000e+00   \n",
              "25%    0.000000e+00  0.000000e+00  0.000000e+00  0.000000e+00   0.000000e+00   \n",
              "50%    0.000000e+00  0.000000e+00  8.424000e+01  0.000000e+00   0.000000e+00   \n",
              "75%    0.000000e+00  2.000000e+00  1.860000e+02  1.000000e+00   0.000000e+00   \n",
              "max    2.200000e+01  3.300000e+01  6.616000e+03  5.300000e+01   6.400000e+01   \n",
              "\n",
              "              heals     killPlace    killPoints         kills   killStreaks  \\\n",
              "count  4.446965e+06  4.446965e+06  4.446965e+06  4.446965e+06  4.446965e+06   \n",
              "mean   1.370148e+00  4.759936e+01  5.050062e+02  9.247835e-01  5.439553e-01   \n",
              "std    2.679982e+00  2.746293e+01  6.275049e+02  1.558445e+00  7.109721e-01   \n",
              "min    0.000000e+00  1.000000e+00  0.000000e+00  0.000000e+00  0.000000e+00   \n",
              "25%    0.000000e+00  2.400000e+01  0.000000e+00  0.000000e+00  0.000000e+00   \n",
              "50%    0.000000e+00  4.700000e+01  0.000000e+00  0.000000e+00  0.000000e+00   \n",
              "75%    2.000000e+00  7.100000e+01  1.172000e+03  1.000000e+00  1.000000e+00   \n",
              "max    8.000000e+01  1.010000e+02  2.170000e+03  7.200000e+01  2.000000e+01   \n",
              "\n",
              "       ...       revives  rideDistance     roadKills  swimDistance  \\\n",
              "count  ...  4.446965e+06  4.446965e+06  4.446965e+06  4.446965e+06   \n",
              "mean   ...  1.646590e-01  6.061158e+02  3.496092e-03  4.509323e+00   \n",
              "std    ...  4.721671e-01  1.498344e+03  7.337297e-02  3.050220e+01   \n",
              "min    ...  0.000000e+00  0.000000e+00  0.000000e+00  0.000000e+00   \n",
              "25%    ...  0.000000e+00  0.000000e+00  0.000000e+00  0.000000e+00   \n",
              "50%    ...  0.000000e+00  0.000000e+00  0.000000e+00  0.000000e+00   \n",
              "75%    ...  0.000000e+00  1.910000e-01  0.000000e+00  0.000000e+00   \n",
              "max    ...  3.900000e+01  4.071000e+04  1.800000e+01  3.823000e+03   \n",
              "\n",
              "          teamKills  vehicleDestroys  walkDistance  weaponsAcquired  \\\n",
              "count  4.446965e+06     4.446965e+06  4.446965e+06     4.446965e+06   \n",
              "mean   2.386841e-02     7.918209e-03  1.154218e+03     3.660488e+00   \n",
              "std    1.673935e-01     9.261158e-02  1.183497e+03     2.456543e+00   \n",
              "min    0.000000e+00     0.000000e+00  0.000000e+00     0.000000e+00   \n",
              "25%    0.000000e+00     0.000000e+00  1.551000e+02     2.000000e+00   \n",
              "50%    0.000000e+00     0.000000e+00  6.856000e+02     3.000000e+00   \n",
              "75%    0.000000e+00     0.000000e+00  1.976000e+03     5.000000e+00   \n",
              "max    1.200000e+01     5.000000e+00  2.578000e+04     2.360000e+02   \n",
              "\n",
              "          winPoints  winPlacePerc  \n",
              "count  4.446965e+06  4.446965e+06  \n",
              "mean   6.064603e+02  4.728216e-01  \n",
              "std    7.397005e+02  3.074050e-01  \n",
              "min    0.000000e+00  0.000000e+00  \n",
              "25%    0.000000e+00  2.000000e-01  \n",
              "50%    0.000000e+00  4.583000e-01  \n",
              "75%    1.495000e+03  7.407000e-01  \n",
              "max    2.013000e+03  1.000000e+00  \n",
              "\n",
              "[8 rows x 25 columns]"
            ]
          },
          "metadata": {
            "tags": []
          },
          "execution_count": 4
        }
      ]
    },
    {
      "cell_type": "code",
      "metadata": {
        "id": "LfM0wWsCSVwJ",
        "colab_type": "code",
        "outputId": "5d1f59df-40d9-41c2-df89-64809aaa811d",
        "colab": {
          "base_uri": "https://localhost:8080/",
          "height": 348
        }
      },
      "source": [
        "z = train.matchType.value_counts()\n",
        "z.plot.bar()\n",
        "plt.show()"
      ],
      "execution_count": 0,
      "outputs": [
        {
          "output_type": "display_data",
          "data": {
            "image/png": "[encoded data removed]",
            "text/plain": [
              "<Figure size 432x288 with 1 Axes>"
            ]
          },
          "metadata": {
            "tags": []
          }
        }
      ]
    },
    {
      "cell_type": "code",
      "metadata": {
        "id": "JfVwzVXyScym",
        "colab_type": "code",
        "outputId": "d5ea49ad-2f64-4bfa-d49f-cebaffffef40",
        "colab": {
          "base_uri": "https://localhost:8080/",
          "height": 326
        }
      },
      "source": [
        "z = train.kills.value_counts()\n",
        "plt.figure(figsize=(12,5))\n",
        "z.plot.bar()\n",
        "plt.show()"
      ],
      "execution_count": 0,
      "outputs": [
        {
          "output_type": "display_data",
          "data": {
            "image/png": "[encoded data removed]",
            "text/plain": [
              "<Figure size 864x360 with 1 Axes>"
            ]
          },
          "metadata": {
            "tags": []
          }
        }
      ]
    },
    {
      "cell_type": "code",
      "metadata": {
        "id": "u7KJAJfivzLe",
        "colab_type": "code",
        "outputId": "0b4ea6a9-764b-413a-8890-6f0e624b02c8",
        "colab": {
          "base_uri": "https://localhost:8080/",
          "height": 441
        }
      },
      "source": [
        "sns.jointplot(x='winPlacePerc', y='killStreaks', data=train, ratio=3, color='r')\n",
        "plt.show()"
      ],
      "execution_count": 0,
      "outputs": [
        {
          "output_type": "display_data",
          "data": {
            "image/png": "[encoded data removed]",
            "text/plain": [
              "<Figure size 432x432 with 3 Axes>"
            ]
          },
          "metadata": {
            "tags": []
          }
        }
      ]
    },
    {
      "cell_type": "code",
      "metadata": {
        "id": "4bQbGRzUShO5",
        "colab_type": "code",
        "outputId": "5941833b-b5f7-48e5-ceae-01aa693c3c3b",
        "colab": {
          "base_uri": "https://localhost:8080/",
          "height": 390
        }
      },
      "source": [
        "figure1, axarr1 = plt.subplots(1, 3, figsize=(14, 6))\n",
        "train['swimDistance'].value_counts().sort_index()[1:20].plot.hist(ax=axarr1[0])\n",
        "train['rideDistance'].value_counts().sort_index()[1:20].plot.hist(ax=axarr1[1])\n",
        "train['walkDistance'].value_counts().sort_index()[1:20].plot.hist(ax=axarr1[2])\n",
        "axarr1[0].set_title('Swim dist')\n",
        "axarr1[1].set_title('Ride dist')\n",
        "axarr1[2].set_title('Walk dist')\n",
        "plt.subplots_adjust(hspace=.3)\n",
        "sns.despine()"
      ],
      "execution_count": 0,
      "outputs": [
        {
          "output_type": "display_data",
          "data": {
            "image/png": "[encoded data removed]",
            "text/plain": [
              "<Figure size 1008x432 with 3 Axes>"
            ]
          },
          "metadata": {
            "tags": []
          }
        }
      ]
    },
    {
      "cell_type": "markdown",
      "metadata": {
        "id": "oGZt4Zt4xH3E",
        "colab_type": "text"
      },
      "source": [
        "Encode Match Type as it is categorical variable"
      ]
    },
    {
      "cell_type": "code",
      "metadata": {
        "id": "FyqxPb_uTMeH",
        "colab_type": "code",
        "outputId": "d6431ec7-544e-4ea5-f7c9-3ca14a828727",
        "colab": {
          "base_uri": "https://localhost:8080/",
          "height": 121
        }
      },
      "source": [
        "matchtype_le = preprocessing.LabelEncoder()\n",
        "matchtype_le.fit(train.matchType.unique())\n",
        "enc = matchtype_le.transform(train.matchType)\n",
        "train_data = train\n",
        "train_data.matchType = enc\n",
        "\n",
        "train_data.matchType.head()"
      ],
      "execution_count": 0,
      "outputs": [
        {
          "output_type": "execute_result",
          "data": {
            "text/plain": [
              "0    15\n",
              "1    15\n",
              "2     2\n",
              "3    15\n",
              "4    13\n",
              "Name: matchType, dtype: int64"
            ]
          },
          "metadata": {
            "tags": []
          },
          "execution_count": 13
        }
      ]
    },
    {
      "cell_type": "markdown",
      "metadata": {
        "id": "Mzz55HaNxz-n",
        "colab_type": "text"
      },
      "source": [
        "Remove Id, groupid and matchid<br>\n",
        "Convert to numpy array<br>\n",
        "Split data (Create 2% test split as data rows are more 5000000)\n"
      ]
    },
    {
      "cell_type": "code",
      "metadata": {
        "id": "Qw5NfkfQxprk",
        "colab_type": "code",
        "outputId": "c1daee3c-4089-4e8b-e046-c04e9c2d614d",
        "colab": {
          "base_uri": "https://localhost:8080/",
          "height": 52
        }
      },
      "source": [
        "data = train_data.iloc[:,3:].values\n",
        "data = shuffle(data)\n",
        "\n",
        "X = data[:,:-1]\n",
        "y = data[:,-1]\n",
        "\n",
        "X_train, X_test, y_train, y_test = train_test_split(X, y, test_size=0.02)\n",
        "\n",
        "print(X_train.shape, y_train.shape)\n",
        "print(X_test.shape, y_test.shape)"
      ],
      "execution_count": 0,
      "outputs": [
        {
          "output_type": "stream",
          "text": [
            "(4358025, 25) (4358025,)\n",
            "(88940, 25) (88940,)\n"
          ],
          "name": "stdout"
        }
      ]
    },
    {
      "cell_type": "markdown",
      "metadata": {
        "id": "4xhnEjwp1JG1",
        "colab_type": "text"
      },
      "source": [
        "# Linear Model<br>\n",
        "Fit to a LinearRegression Model, So we have an idea of the fit"
      ]
    },
    {
      "cell_type": "code",
      "metadata": {
        "id": "VXfErD0hT-1k",
        "colab_type": "code",
        "outputId": "ea225f64-b0fd-497a-ff33-eb5ef7631caf",
        "colab": {
          "base_uri": "https://localhost:8080/",
          "height": 52
        }
      },
      "source": [
        "clf = LinearRegression()\n",
        "clf.fit(X_train, y_train)"
      ],
      "execution_count": 0,
      "outputs": [
        {
          "output_type": "execute_result",
          "data": {
            "text/plain": [
              "LinearRegression(copy_X=True, fit_intercept=True, n_jobs=None,\n",
              "         normalize=False)"
            ]
          },
          "metadata": {
            "tags": []
          },
          "execution_count": 15
        }
      ]
    },
    {
      "cell_type": "markdown",
      "metadata": {
        "id": "nohYC8JC2gZY",
        "colab_type": "text"
      },
      "source": [
        "Mean Square Value and R2 score for Linear Regression"
      ]
    },
    {
      "cell_type": "code",
      "metadata": {
        "id": "Py6_6ZRMxvzE",
        "colab_type": "code",
        "outputId": "921d73d6-824f-4f01-a3b2-9c6787882c79",
        "colab": {
          "base_uri": "https://localhost:8080/",
          "height": 139
        }
      },
      "source": [
        "train_predict = clf.predict(X_train)\n",
        "train_msq = mean_squared_error(y_train, train_predict)\n",
        "train_r2 = r2_score(y_train, train_predict)\n",
        "print(\"Train:\\nMean Squared Error :\", train_msq, \"\\nR2 score :\", train_r2)\n",
        "\n",
        "test_predict = clf.predict(X_test)\n",
        "test_msq = mean_squared_error(y_test, test_predict)\n",
        "test_r2 = r2_score(y_test, test_predict)\n",
        "print(\"\\nTest:\\nMean Squared Error :\", test_msq, \"\\nR2 score :\", test_r2)"
      ],
      "execution_count": 0,
      "outputs": [
        {
          "output_type": "stream",
          "text": [
            "Train:\n",
            "Mean Squared Error : 0.015894585552960392 \n",
            "R2 score : 0.8317955086282278\n",
            "\n",
            "Test:\n",
            "Mean Squared Error : 0.015921824946516883 \n",
            "R2 score : 0.8316977099939594\n"
          ],
          "name": "stdout"
        }
      ]
    },
    {
      "cell_type": "markdown",
      "metadata": {
        "id": "9GfTlM5v2xER",
        "colab_type": "text"
      },
      "source": [
        "Predict Test using our Linear Model"
      ]
    },
    {
      "cell_type": "code",
      "metadata": {
        "id": "m9wuErjDylOA",
        "colab_type": "code",
        "outputId": "35cfba35-1331-45ec-b570-ac682c848f23",
        "colab": {
          "base_uri": "https://localhost:8080/",
          "height": 52
        }
      },
      "source": [
        "test_data = test.iloc[:,3:]\n",
        "z = matchtype_le.transform(test.matchType)\n",
        "test_data.matchType = z\n",
        "test_data = test_data.values\n",
        "\n",
        "test_predict = clf.predict(test_data)\n",
        "test_predict"
      ],
      "execution_count": 0,
      "outputs": [
        {
          "output_type": "execute_result",
          "data": {
            "text/plain": [
              "array([0.18760459, 0.91091134, 0.43954895, ..., 0.80174797, 0.75613336,\n",
              "       0.01968557])"
            ]
          },
          "metadata": {
            "tags": []
          },
          "execution_count": 19
        }
      ]
    },
    {
      "cell_type": "markdown",
      "metadata": {
        "id": "TVyaDjRb3A9T",
        "colab_type": "text"
      },
      "source": [
        "# Neural Network <br>\n",
        "using Tensorflow Keras"
      ]
    },
    {
      "cell_type": "markdown",
      "metadata": {
        "id": "uBogdaYn3pPW",
        "colab_type": "text"
      },
      "source": [
        "Define R2 metric and Callback to check score on Test data"
      ]
    },
    {
      "cell_type": "code",
      "metadata": {
        "id": "eOHDbii83grE",
        "colab_type": "code",
        "colab": {}
      },
      "source": [
        "def coeff_determination(y_true, y_pred):\n",
        "    SS_res =  K.sum(K.square( y_true-y_pred ))\n",
        "    SS_tot = K.sum(K.square( y_true - K.mean(y_true) ) )\n",
        "    return ( 1 - SS_res/(SS_tot + K.epsilon()) )\n",
        "  \n",
        "class TestCallback(tf.keras.callbacks.Callback):\n",
        "    def __init__(self, test_data):\n",
        "        self.test_data = test_data\n",
        "\n",
        "    def on_epoch_end(self, epoch, logs={}):\n",
        "        x, y = self.test_data\n",
        "        loss, coeff = self.model.evaluate(x, y, verbose=0)\n",
        "        \n",
        "        print('\\nTesting loss: {}, r2 computed: {}\\n'.format(loss, coeff))"
      ],
      "execution_count": 0,
      "outputs": []
    },
    {
      "cell_type": "markdown",
      "metadata": {
        "id": "WgKk2wgW3y8Q",
        "colab_type": "text"
      },
      "source": [
        "Define model"
      ]
    },
    {
      "cell_type": "code",
      "metadata": {
        "id": "QVjJwl8nffnr",
        "colab_type": "code",
        "outputId": "bec03c09-def7-4e19-ea66-ebc854a3d000",
        "colab": {
          "base_uri": "https://localhost:8080/",
          "height": 541
        }
      },
      "source": [
        "model = tf.keras.Sequential([\n",
        "    tf.keras.layers.Dense(32, input_shape = [25], activation = 'relu'),\n",
        "    tf.keras.layers.Dense(64, activation = 'relu'),\n",
        "    tf.keras.layers.Dense(128, activation = 'relu'),\n",
        "    tf.keras.layers.Dense(256, activation = 'relu'),\n",
        "    tf.keras.layers.Dense(128, activation = 'relu'),\n",
        "    tf.keras.layers.Dense(64, activation = 'relu'),\n",
        "    tf.keras.layers.Dense(32, activation = 'relu'),\n",
        "    tf.keras.layers.Dense(1, activation = 'linear')  \n",
        "])\n",
        "\n",
        "model.compile(optimizer='adam', loss='mean_squared_error', metrics=[coeff_determination])\n",
        "model.summary()"
      ],
      "execution_count": 0,
      "outputs": [
        {
          "output_type": "stream",
          "text": [
            "WARNING:tensorflow:From /usr/local/lib/python3.6/dist-packages/tensorflow/python/ops/resource_variable_ops.py:435: colocate_with (from tensorflow.python.framework.ops) is deprecated and will be removed in a future version.\n",
            "Instructions for updating:\n",
            "Colocations handled automatically by placer.\n",
            "WARNING:tensorflow:From /usr/local/lib/python3.6/dist-packages/tensorflow/python/keras/utils/losses_utils.py:170: to_float (from tensorflow.python.ops.math_ops) is deprecated and will be removed in a future version.\n",
            "Instructions for updating:\n",
            "Use tf.cast instead.\n",
            "_________________________________________________________________\n",
            "Layer (type)                 Output Shape              Param #   \n",
            "=================================================================\n",
            "dense (Dense)                (None, 32)                832       \n",
            "_________________________________________________________________\n",
            "dense_1 (Dense)              (None, 64)                2112      \n",
            "_________________________________________________________________\n",
            "dense_2 (Dense)              (None, 128)               8320      \n",
            "_________________________________________________________________\n",
            "dense_3 (Dense)              (None, 256)               33024     \n",
            "_________________________________________________________________\n",
            "dense_4 (Dense)              (None, 128)               32896     \n",
            "_________________________________________________________________\n",
            "dense_5 (Dense)              (None, 64)                8256      \n",
            "_________________________________________________________________\n",
            "dense_6 (Dense)              (None, 32)                2080      \n",
            "_________________________________________________________________\n",
            "dense_7 (Dense)              (None, 1)                 33        \n",
            "=================================================================\n",
            "Total params: 87,553\n",
            "Trainable params: 87,553\n",
            "Non-trainable params: 0\n",
            "_________________________________________________________________\n"
          ],
          "name": "stdout"
        }
      ]
    },
    {
      "cell_type": "code",
      "metadata": {
        "id": "twjwy0Cxf4oz",
        "colab_type": "code",
        "outputId": "141dcff7-74e6-4bc6-b201-4fd41838afd7",
        "colab": {
          "base_uri": "https://localhost:8080/",
          "height": 903
        }
      },
      "source": [
        "model.fit(X_train, y_train, epochs=10, callbacks=[TestCallback((X_test, y_test))])"
      ],
      "execution_count": 0,
      "outputs": [
        {
          "output_type": "stream",
          "text": [
            "Epoch 1/10\n",
            "4357728/4358025 [============================>.] - ETA: 0s - loss: 0.0084 - coeff_determination: 0.9062\n",
            "Testing loss: 0.007840074491290254, r2 computed: 0.9122079014778137\n",
            "\n",
            "4358025/4358025 [==============================] - 513s 118us/sample - loss: 0.0084 - coeff_determination: 0.9062\n",
            "Epoch 2/10\n",
            "4357760/4358025 [============================>.] - ETA: 0s - loss: 0.0078 - coeff_determination: 0.9130\n",
            "Testing loss: 0.00769933350373764, r2 computed: 0.9132512807846069\n",
            "\n",
            "4358025/4358025 [==============================] - 506s 116us/sample - loss: 0.0078 - coeff_determination: 0.9131\n",
            "Epoch 3/10\n",
            "4357888/4358025 [============================>.] - ETA: 0s - loss: 0.0076 - coeff_determination: 0.9151\n",
            "Testing loss: 0.0073351618436766, r2 computed: 0.9173192977905273\n",
            "\n",
            "4358025/4358025 [==============================] - 512s 118us/sample - loss: 0.0076 - coeff_determination: 0.9151\n",
            "Epoch 4/10\n",
            "4358016/4358025 [============================>.] - ETA: 0s - loss: 0.0076 - coeff_determination: 0.9146\n",
            "Testing loss: 0.00833173703401443, r2 computed: 0.905953049659729\n",
            "\n",
            "4358025/4358025 [==============================] - 512s 117us/sample - loss: 0.0076 - coeff_determination: 0.9146\n",
            "Epoch 5/10\n",
            "4357760/4358025 [============================>.] - ETA: 0s - loss: 0.0075 - coeff_determination: 0.9160\n",
            "Testing loss: 0.007456809007618195, r2 computed: 0.9163540005683899\n",
            "\n",
            "4358025/4358025 [==============================] - 507s 116us/sample - loss: 0.0075 - coeff_determination: 0.9160\n",
            "Epoch 6/10\n",
            "4357696/4358025 [============================>.] - ETA: 0s - loss: 0.0075 - coeff_determination: 0.9159\n",
            "Testing loss: 0.008157337646954865, r2 computed: 0.9083678722381592\n",
            "\n",
            "4358025/4358025 [==============================] - 508s 117us/sample - loss: 0.0075 - coeff_determination: 0.9159\n",
            "Epoch 7/10\n",
            "4357664/4358025 [============================>.] - ETA: 0s - loss: 0.0074 - coeff_determination: 0.9165\n",
            "Testing loss: 0.0071871510748727375, r2 computed: 0.919105052947998\n",
            "\n",
            "4358025/4358025 [==============================] - 506s 116us/sample - loss: 0.0074 - coeff_determination: 0.9165\n",
            "Epoch 8/10\n",
            "4358016/4358025 [============================>.] - ETA: 0s - loss: 0.0075 - coeff_determination: 0.9161\n",
            "Testing loss: 0.007764268188697751, r2 computed: 0.9125193357467651\n",
            "\n",
            "4358025/4358025 [==============================] - 515s 118us/sample - loss: 0.0075 - coeff_determination: 0.9161\n",
            "Epoch 9/10\n",
            "4357696/4358025 [============================>.] - ETA: 0s - loss: 0.0074 - coeff_determination: 0.9171\n",
            "Testing loss: 0.008030305939808418, r2 computed: 0.9099162220954895\n",
            "\n",
            "4358025/4358025 [==============================] - 530s 122us/sample - loss: 0.0074 - coeff_determination: 0.9171\n",
            "Epoch 10/10\n",
            "4357952/4358025 [============================>.] - ETA: 0s - loss: 0.0074 - coeff_determination: 0.9170\n",
            "Testing loss: 0.007344114542150276, r2 computed: 0.9174661636352539\n",
            "\n",
            "4358025/4358025 [==============================] - 507s 116us/sample - loss: 0.0074 - coeff_determination: 0.9170\n"
          ],
          "name": "stdout"
        },
        {
          "output_type": "execute_result",
          "data": {
            "text/plain": [
              "<tensorflow.python.keras.callbacks.History at 0x7f08b373d358>"
            ]
          },
          "metadata": {
            "tags": []
          },
          "execution_count": 35
        }
      ]
    },
    {
      "cell_type": "markdown",
      "metadata": {
        "id": "1ujgjY2j38IA",
        "colab_type": "text"
      },
      "source": [
        "Check the model on test data"
      ]
    },
    {
      "cell_type": "code",
      "metadata": {
        "id": "Ig2z9cU5f62r",
        "colab_type": "code",
        "outputId": "cd067c36-ef4d-4a59-e4a8-e6456f3406f6",
        "colab": {
          "base_uri": "https://localhost:8080/",
          "height": 156
        }
      },
      "source": [
        "test_data = test.iloc[:,3:]\n",
        "z = matchtype_le.transform(test.matchType)\n",
        "test_data.matchType = z\n",
        "test_data = test_data.values\n",
        "\n",
        "testsetpredict = model.predict(test_data)\n",
        "print(testsetpredict)\n",
        "print(testsetpredict.shape)\n",
        "\n",
        "submission1 = pd.DataFrame(test['Id'], columns=['Id'])\n",
        "submission1['winPlacePerc'] = testsetpredict\n",
        "print(submission1.head())\n",
        "\n",
        "submission1.to_csv(r'submission1.csv', index=None)"
      ],
      "execution_count": 0,
      "outputs": [
        {
          "output_type": "stream",
          "text": [
            "[[0.22975108]\n",
            " [0.9139791 ]\n",
            " [0.70671654]\n",
            " ...\n",
            " [0.82505536]\n",
            " [0.8017247 ]\n",
            " [0.06034794]]\n",
            "(1934174, 1)\n"
          ],
          "name": "stdout"
        }
      ]
    },
    {
      "cell_type": "markdown",
      "metadata": {
        "id": "w9d5XI693ihf",
        "colab_type": "text"
      },
      "source": [
        "# New Model"
      ]
    },
    {
      "cell_type": "code",
      "metadata": {
        "id": "qsHMNkU8qmUj",
        "colab_type": "code",
        "outputId": "a596fe95-166c-4e7e-b1e0-109393c7d6d5",
        "colab": {
          "base_uri": "https://localhost:8080/",
          "height": 382
        }
      },
      "source": [
        "model = tf.keras.Sequential([\n",
        "    tf.keras.layers.Dense(32, input_shape = [25], activation = 'relu'),\n",
        "    tf.keras.layers.Dense(128, activation = 'relu'),\n",
        "    tf.keras.layers.Dense(512, activation = 'relu'),\n",
        "    tf.keras.layers.Dense(1024, activation = 'relu'),\n",
        "    tf.keras.layers.Dense(512, activation = 'relu'),\n",
        "    tf.keras.layers.Dense(128, activation = 'relu'),\n",
        "    tf.keras.layers.Dense(1, activation = 'linear')  \n",
        "])\n",
        "\n",
        "model.compile(optimizer='adam', loss='mean_squared_error', metrics=['accuracy', coeff_determination])\n",
        "model.summary()\n",
        "\n",
        "class TestCallback(tf.keras.callbacks.Callback):\n",
        "    def __init__(self, test_data):\n",
        "        self.test_data = test_data\n",
        "\n",
        "    def on_epoch_end(self, epoch, logs={}):\n",
        "        x, y = self.test_data\n",
        "        loss, acc, coeff = self.model.evaluate(x, y, verbose=0)\n",
        "        y_pred = self.model.predict(x)\n",
        "        \n",
        "        print('\\nTesting loss: {}, acc: {}, r2 computed: {}, r2 actual: {}\\n'.format(loss, acc, coeff, r2_score(y,y_pred)))"
      ],
      "execution_count": 0,
      "outputs": [
        {
          "output_type": "stream",
          "text": [
            "_________________________________________________________________\n",
            "Layer (type)                 Output Shape              Param #   \n",
            "=================================================================\n",
            "dense_7 (Dense)              (None, 32)                832       \n",
            "_________________________________________________________________\n",
            "dense_8 (Dense)              (None, 128)               4224      \n",
            "_________________________________________________________________\n",
            "dense_9 (Dense)              (None, 512)               66048     \n",
            "_________________________________________________________________\n",
            "dense_10 (Dense)             (None, 1024)              525312    \n",
            "_________________________________________________________________\n",
            "dense_11 (Dense)             (None, 512)               524800    \n",
            "_________________________________________________________________\n",
            "dense_12 (Dense)             (None, 128)               65664     \n",
            "_________________________________________________________________\n",
            "dense_13 (Dense)             (None, 1)                 129       \n",
            "=================================================================\n",
            "Total params: 1,187,009\n",
            "Trainable params: 1,187,009\n",
            "Non-trainable params: 0\n",
            "_________________________________________________________________\n"
          ],
          "name": "stdout"
        }
      ]
    },
    {
      "cell_type": "code",
      "metadata": {
        "id": "47otxOow3suJ",
        "colab_type": "code",
        "outputId": "133934f1-1f9f-4a36-bd8a-c2fea81db024",
        "colab": {
          "base_uri": "https://localhost:8080/",
          "height": 54
        }
      },
      "source": [
        "model.fit(X_train, y_train, epochs=5, callbacks=[TestCallback((X_test, y_test))])"
      ],
      "execution_count": 0,
      "outputs": [
        {
          "output_type": "stream",
          "text": [
            "Epoch 1/10\n",
            "4358016/4358025 [============================>.] - ETA: 0s - loss: 0.0088 - acc: 0.0777 - coeff_determination: 0.9024\n",
            "Testing loss: 0.007389530500056558, acc: 0.07763660699129105, r2 computed: 0.9174628853797913, r2 actual: 0.9218885754331659\n",
            "\n",
            "4358025/4358025 [==============================] - 2955s 678us/sample - loss: 0.0088 - acc: 0.0777 - coeff_determination: 0.9024\n",
            "Epoch 2/10\n",
            " 532480/4358025 [==>...........................] - ETA: 42:08 - loss: 0.0080 - acc: 0.0778 - coeff_determination: 0.9110Buffered data was truncated after reaching the output size limit."
          ],
          "name": "stdout"
        }
      ]
    },
    {
      "cell_type": "code",
      "metadata": {
        "id": "-JtNzCq136Sw",
        "colab_type": "code",
        "colab": {}
      },
      "source": [
        "test_data = test.iloc[:,3:]\n",
        "z = matchtype_le.transform(test.matchType)\n",
        "test_data.matchType = z\n",
        "test_data = test_data.values\n",
        "\n",
        "testsetpredict = model.predict(test_data)\n",
        "print(testsetpredict)\n",
        "print(testsetpredict.shape)\n",
        "\n",
        "submission1 = pd.DataFrame(test['Id'], columns=['Id'])\n",
        "submission1['winPlacePerc'] = testsetpredict\n",
        "print(submission1.head())\n",
        "\n",
        "submission1.to_csv(r'submission2.csv', index=None)"
      ],
      "execution_count": 0,
      "outputs": []
    }
  ]
}